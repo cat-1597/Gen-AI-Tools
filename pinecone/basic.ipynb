{
 "cells": [
  {
   "cell_type": "code",
   "execution_count": 2,
   "metadata": {},
   "outputs": [
    {
     "name": "stdout",
     "output_type": "stream",
     "text": [
      "Note: you may need to restart the kernel to use updated packages.\n"
     ]
    }
   ],
   "source": [
    "%pip install -q python-env"
   ]
  },
  {
   "cell_type": "code",
   "execution_count": 3,
   "metadata": {},
   "outputs": [
    {
     "name": "stdout",
     "output_type": "stream",
     "text": [
      "Note: you may need to restart the kernel to use updated packages.\n"
     ]
    }
   ],
   "source": [
    "%pip install -q \"pinecone[grpc]\"\n"
   ]
  },
  {
   "cell_type": "code",
   "execution_count": null,
   "metadata": {},
   "outputs": [
    {
     "name": "stdout",
     "output_type": "stream",
     "text": [
      "EmbeddingsList(\n",
      "  model='multilingual-e5-large',\n",
      "  vector_type='dense',\n",
      "  data=[\n",
      "    {'vector_type': dense, 'values': [0.04205322265625, -0.00951385498046875, ..., -0.050506591796875, -0.01019287109375]},\n",
      "    {'vector_type': dense, 'values': [0.033203125, -0.018524169921875, ..., -0.00965118408203125, -0.0240631103515625]},\n",
      "    {'vector_type': dense, 'values': [0.033599853515625, -0.00600433349609375, ..., -0.005611419677734375, -0.0251922607421875]},\n",
      "    {'vector_type': dense, 'values': [0.00972747802734375, -0.01181793212890625, ..., -0.0252227783203125, -0.006389617919921875]}\n",
      "  ],\n",
      "  usage={'total_tokens': 118}\n",
      ")\n"
     ]
    }
   ],
   "source": [
    "# Import the Pinecone library\n",
    "from pinecone.grpc import PineconeGRPC as Pinecone\n",
    "from pinecone import ServerlessSpec\n",
    "import time\n",
    "\n",
    "# Initialize a Pinecone client with your API key\n",
    "pc = Pinecone(api_key=\"\")\n",
    "\n",
    "# Define a sample dataset where each item has a unique ID, text, and category\n",
    "data = [\n",
    "    {\n",
    "        \"id\": \"rec1\",\n",
    "        \"text\": \"Apples are a great source of dietary fiber, which supports digestion and helps maintain a healthy gut.\",\n",
    "        \"category\": \"digestive system\" \n",
    "    },\n",
    "    {\n",
    "        \"id\": \"rec2\",\n",
    "        \"text\": \"Apples originated in Central Asia and have been cultivated for thousands of years, with over 7,500 varieties available today.\",\n",
    "        \"category\": \"cultivation\"\n",
    "    },\n",
    "    {\n",
    "        \"id\": \"rec3\",\n",
    "        \"text\": \"Rich in vitamin C and other antioxidants, apples contribute to immune health and may reduce the risk of chronic diseases.\",\n",
    "        \"category\": \"immune system\"\n",
    "    },\n",
    "    {\n",
    "        \"id\": \"rec4\",\n",
    "        \"text\": \"The high fiber content in apples can also help regulate blood sugar levels, making them a favorable snack for people with diabetes.\",\n",
    "        \"category\": \"endocrine system\"\n",
    "    }\n",
    "]\n",
    "\n",
    "# Convert the text into numerical vectors that Pinecone can index\n",
    "embeddings = pc.inference.embed(\n",
    "    model=\"multilingual-e5-large\",\n",
    "    inputs=[d[\"text\"] for d in data],\n",
    "    parameters={\n",
    "        \"input_type\": \"passage\", \n",
    "        \"truncate\": \"END\"\n",
    "    }\n",
    ")\n",
    "\n",
    "print(embeddings)"
   ]
  },
  {
   "cell_type": "code",
   "execution_count": 5,
   "metadata": {},
   "outputs": [],
   "source": [
    "# Create a serverless index\n",
    "index_name = \"example-index\"\n",
    "\n",
    "if not pc.has_index(index_name):\n",
    "    pc.create_index(\n",
    "        name=index_name,\n",
    "        dimension=1024,\n",
    "        metric=\"cosine\",\n",
    "        spec=ServerlessSpec(\n",
    "            cloud=\"aws\", \n",
    "            region=\"us-east-1\"\n",
    "        ) \n",
    "    ) \n",
    "\n",
    "# Wait for the index to be ready\n",
    "while not pc.describe_index(index_name).status['ready']:\n",
    "    time.sleep(1)\n"
   ]
  },
  {
   "cell_type": "code",
   "execution_count": 7,
   "metadata": {},
   "outputs": [
    {
     "data": {
      "text/plain": [
       "upserted_count: 4"
      ]
     },
     "execution_count": 7,
     "metadata": {},
     "output_type": "execute_result"
    }
   ],
   "source": [
    "# Target the index\n",
    "# In production, target an index by its unique DNS host, not by its name\n",
    "# See https://docs.pinecone.io/guides/data/target-an-index\n",
    "index = pc.Index(index_name)\n",
    "\n",
    "# Prepare the records for upsert\n",
    "# Each contains an 'id', the vector 'values', \n",
    "# and the original text and category as 'metadata'\n",
    "records = []\n",
    "for d, e in zip(data, embeddings):\n",
    "    records.append({\n",
    "        \"id\": d[\"id\"],\n",
    "        \"values\": e[\"values\"],\n",
    "        \"metadata\": {\n",
    "            \"source_text\": d[\"text\"],\n",
    "            \"category\": d[\"category\"]\n",
    "        }\n",
    "    })\n",
    "\n",
    "# Upsert the records into the index\n",
    "index.upsert(\n",
    "    vectors=records,\n",
    "    namespace=\"example-namespace\"\n",
    ")\n"
   ]
  },
  {
   "cell_type": "code",
   "execution_count": 8,
   "metadata": {},
   "outputs": [
    {
     "name": "stdout",
     "output_type": "stream",
     "text": [
      "{'matches': [{'id': 'rec3',\n",
      "              'metadata': {'category': 'immune system',\n",
      "                           'source_text': 'Rich in vitamin C and other '\n",
      "                                          'antioxidants, apples contribute to '\n",
      "                                          'immune health and may reduce the '\n",
      "                                          'risk of chronic diseases.'},\n",
      "              'score': 0.8224697,\n",
      "              'sparse_values': {'indices': [], 'values': []},\n",
      "              'values': []},\n",
      "             {'id': 'rec1',\n",
      "              'metadata': {'category': 'digestive system',\n",
      "                           'source_text': 'Apples are a great source of '\n",
      "                                          'dietary fiber, which supports '\n",
      "                                          'digestion and helps maintain a '\n",
      "                                          'healthy gut.'},\n",
      "              'score': 0.7912986,\n",
      "              'sparse_values': {'indices': [], 'values': []},\n",
      "              'values': []},\n",
      "             {'id': 'rec4',\n",
      "              'metadata': {'category': 'endocrine system',\n",
      "                           'source_text': 'The high fiber content in apples '\n",
      "                                          'can also help regulate blood sugar '\n",
      "                                          'levels, making them a favorable '\n",
      "                                          'snack for people with diabetes.'},\n",
      "              'score': 0.78580403,\n",
      "              'sparse_values': {'indices': [], 'values': []},\n",
      "              'values': []}],\n",
      " 'namespace': 'example-namespace',\n",
      " 'usage': {'read_units': 6}}\n"
     ]
    }
   ],
   "source": [
    "# Define your query\n",
    "query = \"Health risks\"\n",
    "\n",
    "# Convert the query into a numerical vector that Pinecone can search with\n",
    "query_embedding = pc.inference.embed(\n",
    "    model=\"multilingual-e5-large\",\n",
    "    inputs=[query],\n",
    "    parameters={\n",
    "        \"input_type\": \"query\"\n",
    "    }\n",
    ")\n",
    "\n",
    "# Search the index for the three most similar vectors\n",
    "results = index.query(\n",
    "    namespace=\"example-namespace\",\n",
    "    vector=query_embedding[0].values,\n",
    "    top_k=3,\n",
    "    include_values=False,\n",
    "    include_metadata=True\n",
    ")\n",
    "\n",
    "print(results)\n"
   ]
  },
  {
   "cell_type": "code",
   "execution_count": 9,
   "metadata": {},
   "outputs": [
    {
     "name": "stdout",
     "output_type": "stream",
     "text": [
      "{'matches': [{'id': 'rec1',\n",
      "              'metadata': {'category': 'digestive system',\n",
      "                           'source_text': 'Apples are a great source of '\n",
      "                                          'dietary fiber, which supports '\n",
      "                                          'digestion and helps maintain a '\n",
      "                                          'healthy gut.'},\n",
      "              'score': 0.8735175,\n",
      "              'sparse_values': {'indices': [], 'values': []},\n",
      "              'values': []},\n",
      "             {'id': 'rec3',\n",
      "              'metadata': {'category': 'immune system',\n",
      "                           'source_text': 'Rich in vitamin C and other '\n",
      "                                          'antioxidants, apples contribute to '\n",
      "                                          'immune health and may reduce the '\n",
      "                                          'risk of chronic diseases.'},\n",
      "              'score': 0.86947113,\n",
      "              'sparse_values': {'indices': [], 'values': []},\n",
      "              'values': []},\n",
      "             {'id': 'rec2',\n",
      "              'metadata': {'category': 'cultivation',\n",
      "                           'source_text': 'Apples originated in Central Asia '\n",
      "                                          'and have been cultivated for '\n",
      "                                          'thousands of years, with over 7,500 '\n",
      "                                          'varieties available today.'},\n",
      "              'score': 0.8637555,\n",
      "              'sparse_values': {'indices': [], 'values': []},\n",
      "              'values': []}],\n",
      " 'namespace': 'example-namespace',\n",
      " 'usage': {'read_units': 6}}\n"
     ]
    }
   ],
   "source": [
    "query = \"apples\"\n",
    "\n",
    "# Convert the query into a numerical vector that Pinecone can search with\n",
    "query_embedding = pc.inference.embed(\n",
    "    model=\"multilingual-e5-large\",\n",
    "    inputs=[query],\n",
    "    parameters={\n",
    "        \"input_type\": \"query\"\n",
    "    }\n",
    ")\n",
    "\n",
    "# Search the index for the three most similar vectors\n",
    "results = index.query(\n",
    "    namespace=\"example-namespace\",\n",
    "    vector=query_embedding[0].values,\n",
    "    top_k=3,\n",
    "    include_values=False,\n",
    "    include_metadata=True\n",
    ")\n",
    "\n",
    "print(results)"
   ]
  },
  {
   "cell_type": "code",
   "execution_count": 12,
   "metadata": {},
   "outputs": [
    {
     "name": "stdout",
     "output_type": "stream",
     "text": [
      "{'matches': [{'id': 'rec2',\n",
      "              'metadata': {'category': 'cultivation',\n",
      "                           'source_text': 'Apples originated in Central Asia '\n",
      "                                          'and have been cultivated for '\n",
      "                                          'thousands of years, with over 7,500 '\n",
      "                                          'varieties available today.'},\n",
      "              'score': 0.8079267,\n",
      "              'sparse_values': {'indices': [], 'values': []},\n",
      "              'values': []}],\n",
      " 'namespace': 'example-namespace',\n",
      " 'usage': {'read_units': 6}}\n"
     ]
    }
   ],
   "source": [
    "query = \"cultivation\"\n",
    "\n",
    "# Convert the query into a numerical vector that Pinecone can search with\n",
    "query_embedding = pc.inference.embed(\n",
    "    model=\"multilingual-e5-large\",\n",
    "    inputs=[query],\n",
    "    parameters={\n",
    "        \"input_type\": \"query\"\n",
    "    }\n",
    ")\n",
    "\n",
    "# Search the index for the three most similar vectors\n",
    "results = index.query(\n",
    "    namespace=\"example-namespace\",\n",
    "    vector=query_embedding[0].values,\n",
    "    top_k=1,\n",
    "    include_values=False,\n",
    "    include_metadata=True\n",
    ")\n",
    "\n",
    "print(results)"
   ]
  },
  {
   "cell_type": "code",
   "execution_count": null,
   "metadata": {},
   "outputs": [],
   "source": []
  },
  {
   "cell_type": "code",
   "execution_count": 10,
   "metadata": {},
   "outputs": [
    {
     "name": "stdout",
     "output_type": "stream",
     "text": [
      "{'matches': [{'id': 'rec3',\n",
      "              'metadata': {'category': 'immune system',\n",
      "                           'source_text': 'Rich in vitamin C and other '\n",
      "                                          'antioxidants, apples contribute to '\n",
      "                                          'immune health and may reduce the '\n",
      "                                          'risk of chronic diseases.'},\n",
      "              'score': 0.7768235,\n",
      "              'sparse_values': {'indices': [], 'values': []},\n",
      "              'values': []},\n",
      "             {'id': 'rec1',\n",
      "              'metadata': {'category': 'digestive system',\n",
      "                           'source_text': 'Apples are a great source of '\n",
      "                                          'dietary fiber, which supports '\n",
      "                                          'digestion and helps maintain a '\n",
      "                                          'healthy gut.'},\n",
      "              'score': 0.7758372,\n",
      "              'sparse_values': {'indices': [], 'values': []},\n",
      "              'values': []},\n",
      "             {'id': 'rec4',\n",
      "              'metadata': {'category': 'endocrine system',\n",
      "                           'source_text': 'The high fiber content in apples '\n",
      "                                          'can also help regulate blood sugar '\n",
      "                                          'levels, making them a favorable '\n",
      "                                          'snack for people with diabetes.'},\n",
      "              'score': 0.7663632,\n",
      "              'sparse_values': {'indices': [], 'values': []},\n",
      "              'values': []}],\n",
      " 'namespace': 'example-namespace',\n",
      " 'usage': {'read_units': 6}}\n"
     ]
    }
   ],
   "source": [
    "query = \"cars\"\n",
    "\n",
    "# Convert the query into a numerical vector that Pinecone can search with\n",
    "query_embedding = pc.inference.embed(\n",
    "    model=\"multilingual-e5-large\",\n",
    "    inputs=[query],\n",
    "    parameters={\n",
    "        \"input_type\": \"query\"\n",
    "    }\n",
    ")\n",
    "\n",
    "# Search the index for the three most similar vectors\n",
    "results = index.query(\n",
    "    namespace=\"example-namespace\",\n",
    "    vector=query_embedding[0].values,\n",
    "    top_k=3,\n",
    "    include_values=False,\n",
    "    include_metadata=True\n",
    ")\n",
    "\n",
    "print(results)"
   ]
  },
  {
   "cell_type": "code",
   "execution_count": 14,
   "metadata": {},
   "outputs": [
    {
     "name": "stdout",
     "output_type": "stream",
     "text": [
      "RerankResult(\n",
      "  model='bge-reranker-v2-m3',\n",
      "  data=[{\n",
      "    index=0,\n",
      "    score=0.07992552,\n",
      "    document={\n",
      "        id='rec3',\n",
      "        source_text='Rich in vitamin C and other antioxidants, apples contribute to immune health and may reduce the risk of chronic diseases.'\n",
      "    }\n",
      "  },{\n",
      "    index=2,\n",
      "    score=0.003976228,\n",
      "    document={\n",
      "        id='rec4',\n",
      "        source_text='The high fiber content in apples can also help regulate blood sugar levels, making them a favorable snack for people with diabetes.'\n",
      "    }\n",
      "  },{\n",
      "    index=1,\n",
      "    score=0.0009888597,\n",
      "    document={\n",
      "        id='rec1',\n",
      "        source_text='Apples are a great source of dietary fiber, which supports digestion and helps maintain a healthy gut.'\n",
      "    }\n",
      "  }],\n",
      "  usage={'rerank_units': 1}\n",
      ")\n"
     ]
    }
   ],
   "source": [
    "ranked_results = pc.inference.rerank(\n",
    "    model =\"bge-reranker-v2-m3\",\n",
    "    query = \"Health risks\",\n",
    "    documents=[\n",
    "        {\"id\": \"rec3\", \"source_text\": \"Rich in vitamin C and other antioxidants, apples contribute to immune health and may reduce the risk of chronic diseases.\"},\n",
    "        {\"id\": \"rec1\", \"source_text\": \"Apples are a great source of dietary fiber, which supports digestion and helps maintain a healthy gut.\"},\n",
    "        {\"id\": \"rec4\", \"source_text\": \"The high fiber content in apples can also help regulate blood sugar levels, making them a favorable snack for people with diabetes.\"}\n",
    "    ],\n",
    "    top_n=3,\n",
    "    rank_fields=[\"source_text\"],\n",
    "    return_documents=True,\n",
    "    parameters={\n",
    "        \"truncate\": \"END\"\n",
    "    }\n",
    ")\n",
    "\n",
    "print(ranked_results)"
   ]
  },
  {
   "cell_type": "code",
   "execution_count": 15,
   "metadata": {},
   "outputs": [
    {
     "name": "stdout",
     "output_type": "stream",
     "text": [
      "{'matches': [{'id': 'rec1',\n",
      "              'metadata': {'category': 'digestive system',\n",
      "                           'source_text': 'Apples are a great source of '\n",
      "                                          'dietary fiber, which supports '\n",
      "                                          'digestion and helps maintain a '\n",
      "                                          'healthy gut.'},\n",
      "              'score': 0.7739248,\n",
      "              'sparse_values': {'indices': [], 'values': []},\n",
      "              'values': []}],\n",
      " 'namespace': 'example-namespace',\n",
      " 'usage': {'read_units': 6}}\n"
     ]
    }
   ],
   "source": [
    "# Search the index with a metadata filter\n",
    "filtered_results = index.query(\n",
    "    namespace=\"example-namespace\",\n",
    "    vector=query_embedding.data[0].values,\n",
    "    filter={\n",
    "        \"category\": {\"$eq\": \"digestive system\"}\n",
    "    },\n",
    "    top_k=3,\n",
    "    include_values=False,\n",
    "    include_metadata=True\n",
    ")\n",
    "\n",
    "print(filtered_results)\n"
   ]
  }
 ],
 "metadata": {
  "kernelspec": {
   "display_name": "3.12.9",
   "language": "python",
   "name": "python3"
  },
  "language_info": {
   "codemirror_mode": {
    "name": "ipython",
    "version": 3
   },
   "file_extension": ".py",
   "mimetype": "text/x-python",
   "name": "python",
   "nbconvert_exporter": "python",
   "pygments_lexer": "ipython3",
   "version": "3.12.9"
  }
 },
 "nbformat": 4,
 "nbformat_minor": 2
}
